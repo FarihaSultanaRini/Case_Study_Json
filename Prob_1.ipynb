{
 "cells": [
  {
   "cell_type": "code",
   "execution_count": 1,
   "id": "b334a7ec",
   "metadata": {},
   "outputs": [
    {
     "name": "stdout",
     "output_type": "stream",
     "text": [
      "{'description': '', 'tags': [], 'size': {'height': 720, 'width': 1280}, 'objects': [{'id': 28602834, 'classId': 17389, 'description': '', 'geometryType': 'rectangle', 'labelerLogin': 'muyeed', 'createdAt': '2021-11-24T04:04:09.702Z', 'updatedAt': '2021-11-24T04:04:09.702Z', 'tags': [{'id': 29485103, 'tagId': 32292, 'name': 'Type', 'value': 'SUV', 'labelerLogin': 'muyeed', 'createdAt': '2021-11-24T04:04:09.702Z', 'updatedAt': '2021-11-24T04:04:09.702Z'}, {'id': 29485102, 'tagId': 32295, 'name': 'Pose', 'value': 'Rear', 'labelerLogin': 'muyeed', 'createdAt': '2021-11-24T04:04:09.702Z', 'updatedAt': '2021-11-24T04:04:09.702Z'}, {'id': 29485101, 'tagId': 32297, 'name': 'Model', 'value': 'UN', 'labelerLogin': 'muyeed', 'createdAt': '2021-11-24T04:04:09.702Z', 'updatedAt': '2021-11-24T04:04:09.702Z'}, {'id': 29485100, 'tagId': 32296, 'name': 'Make', 'value': 'Lexus', 'labelerLogin': 'muyeed', 'createdAt': '2021-11-24T04:04:09.702Z', 'updatedAt': '2021-11-24T04:04:09.702Z'}, {'id': 29485099, 'tagId': 32291, 'name': 'Color', 'value': 'Silver', 'labelerLogin': 'muyeed', 'createdAt': '2021-11-24T04:04:09.702Z', 'updatedAt': '2021-11-24T04:04:09.702Z'}], 'classTitle': 'Vehicle', 'points': {'exterior': [[396, 3], [773, 314]], 'interior': []}}, {'id': 28602833, 'classId': 17388, 'description': '', 'geometryType': 'rectangle', 'labelerLogin': 'muyeed', 'createdAt': '2021-11-24T04:04:09.702Z', 'updatedAt': '2021-11-24T04:04:09.702Z', 'tags': [{'id': 29485098, 'tagId': 32293, 'name': 'Difficulty Score', 'value': '0', 'labelerLogin': 'muyeed', 'createdAt': '2021-11-24T04:04:09.702Z', 'updatedAt': '2021-11-24T04:04:09.702Z'}, {'id': 29485097, 'tagId': 32290, 'name': 'Value', 'value': 'CA, 7LVS119', 'labelerLogin': 'muyeed', 'createdAt': '2021-11-24T04:04:09.702Z', 'updatedAt': '2021-11-24T04:04:09.702Z'}], 'classTitle': 'License Plate', 'points': {'exterior': [[535, 158], [622, 213]], 'interior': []}}]}\n"
     ]
    }
   ],
   "source": [
    "import json\n",
    "\n",
    "with open('D:\\\\sampleJson\\\\pos_0.png.json') as json_file:\n",
    "    data = json.load(json_file)\n",
    "    print(data)"
   ]
  },
  {
   "cell_type": "code",
   "execution_count": 2,
   "id": "d6b323b2",
   "metadata": {},
   "outputs": [
    {
     "name": "stdout",
     "output_type": "stream",
     "text": [
      "[{'dataset_name': 'pos_10492.png.json', 'image_link': '', 'annotation_type': 'image', 'annotation_objects': {'vehicle': {'presence': 0, 'bbox': []}, 'license_plate': {'presence': 0, 'bbox': []}}, 'annotation_attributes': {'vehicle': {'Type': None, 'Pose': None, 'Model': None, 'Make': None, 'Color': None}, 'license_plate': {'Difficulty Score': None, 'Value': None, 'Occlusion': None}}}]\n"
     ]
    }
   ],
   "source": [
    "with open('D:\\\\sampleJson\\\\formatted_pos_10492.png.json') as json_file:\n",
    "    data1 = json.load(json_file)\n",
    "    print(data1)"
   ]
  },
  {
   "cell_type": "code",
   "execution_count": 3,
   "id": "dd677cc3",
   "metadata": {},
   "outputs": [
    {
     "data": {
      "text/plain": [
       "[[396, 3], [773, 314]]"
      ]
     },
     "execution_count": 3,
     "metadata": {},
     "output_type": "execute_result"
    }
   ],
   "source": [
    "k=data['objects'][0]['points']['exterior']\n",
    "k"
   ]
  },
  {
   "cell_type": "code",
   "execution_count": 4,
   "id": "c6dc7465",
   "metadata": {},
   "outputs": [
    {
     "data": {
      "text/plain": [
       "[396, 3, 773, 314]"
      ]
     },
     "execution_count": 4,
     "metadata": {},
     "output_type": "execute_result"
    }
   ],
   "source": [
    "l=[]\n",
    "for  i in k:\n",
    "    l.extend(i)\n",
    "l"
   ]
  },
  {
   "cell_type": "code",
   "execution_count": 5,
   "id": "55624ef3",
   "metadata": {},
   "outputs": [
    {
     "data": {
      "text/plain": [
       "[535, 158, 622, 213]"
      ]
     },
     "execution_count": 5,
     "metadata": {},
     "output_type": "execute_result"
    }
   ],
   "source": [
    "k2=data['objects'][1]['points']['exterior']\n",
    "\n",
    "l2=[]\n",
    "for  i in k2:\n",
    "    l2.extend(i)\n",
    "l2"
   ]
  },
  {
   "cell_type": "code",
   "execution_count": null,
   "id": "57152395",
   "metadata": {},
   "outputs": [],
   "source": [
    "#data1[0]['annotation_objects']['vehicle']['bbox']=l"
   ]
  },
  {
   "cell_type": "code",
   "execution_count": 6,
   "id": "2c725740",
   "metadata": {},
   "outputs": [],
   "source": [
    "data1[0]['annotation_objects']['vehicle']['bbox']=l"
   ]
  },
  {
   "cell_type": "code",
   "execution_count": 7,
   "id": "8a7b5aca",
   "metadata": {},
   "outputs": [],
   "source": [
    "#data1[0]['annotation_objects']['license_plate']['bbox']=data['objects'][1]['points']['exterior']\n",
    "data1[0]['annotation_objects']['license_plate']['bbox']=l2"
   ]
  },
  {
   "cell_type": "code",
   "execution_count": 8,
   "id": "badcac14",
   "metadata": {},
   "outputs": [
    {
     "data": {
      "text/plain": [
       "[{'dataset_name': 'pos_10492.png.json',\n",
       "  'image_link': '',\n",
       "  'annotation_type': 'image',\n",
       "  'annotation_objects': {'vehicle': {'presence': 0,\n",
       "    'bbox': [396, 3, 773, 314]},\n",
       "   'license_plate': {'presence': 0, 'bbox': [535, 158, 622, 213]}},\n",
       "  'annotation_attributes': {'vehicle': {'Type': None,\n",
       "    'Pose': None,\n",
       "    'Model': None,\n",
       "    'Make': None,\n",
       "    'Color': None},\n",
       "   'license_plate': {'Difficulty Score': None,\n",
       "    'Value': None,\n",
       "    'Occlusion': None}}}]"
      ]
     },
     "execution_count": 8,
     "metadata": {},
     "output_type": "execute_result"
    }
   ],
   "source": [
    "data1"
   ]
  },
  {
   "cell_type": "code",
   "execution_count": 9,
   "id": "577ab371",
   "metadata": {},
   "outputs": [],
   "source": [
    "data1[0]['annotation_objects']['vehicle']['presence']=1"
   ]
  },
  {
   "cell_type": "code",
   "execution_count": 10,
   "id": "fc89e62e",
   "metadata": {},
   "outputs": [],
   "source": [
    "data1[0]['annotation_objects']['license_plate']['presence']=1"
   ]
  },
  {
   "cell_type": "code",
   "execution_count": 11,
   "id": "303de51b",
   "metadata": {},
   "outputs": [
    {
     "data": {
      "text/plain": [
       "[{'dataset_name': 'pos_10492.png.json',\n",
       "  'image_link': '',\n",
       "  'annotation_type': 'image',\n",
       "  'annotation_objects': {'vehicle': {'presence': 1,\n",
       "    'bbox': [396, 3, 773, 314]},\n",
       "   'license_plate': {'presence': 1, 'bbox': [535, 158, 622, 213]}},\n",
       "  'annotation_attributes': {'vehicle': {'Type': None,\n",
       "    'Pose': None,\n",
       "    'Model': None,\n",
       "    'Make': None,\n",
       "    'Color': None},\n",
       "   'license_plate': {'Difficulty Score': None,\n",
       "    'Value': None,\n",
       "    'Occlusion': None}}}]"
      ]
     },
     "execution_count": 11,
     "metadata": {},
     "output_type": "execute_result"
    }
   ],
   "source": [
    "data1"
   ]
  },
  {
   "cell_type": "code",
   "execution_count": 12,
   "id": "19f11ffa",
   "metadata": {},
   "outputs": [],
   "source": [
    "data1[0]['annotation_attributes']['vehicle']['Type']='SUV'"
   ]
  },
  {
   "cell_type": "code",
   "execution_count": 13,
   "id": "5e033b74",
   "metadata": {},
   "outputs": [],
   "source": [
    "data1[0]['annotation_attributes']['vehicle']['Pose']='Rear'"
   ]
  },
  {
   "cell_type": "code",
   "execution_count": 14,
   "id": "e1394207",
   "metadata": {},
   "outputs": [],
   "source": [
    "data1[0]['annotation_attributes']['vehicle']['Pose']='UN'"
   ]
  },
  {
   "cell_type": "code",
   "execution_count": 15,
   "id": "f9d9e5e1",
   "metadata": {},
   "outputs": [],
   "source": [
    "data1[0]['annotation_attributes']['vehicle']['Pose']='Lexus'"
   ]
  },
  {
   "cell_type": "code",
   "execution_count": 16,
   "id": "b993f893",
   "metadata": {},
   "outputs": [],
   "source": [
    "data1[0]['annotation_attributes']['vehicle']['Pose']='Lexus'"
   ]
  },
  {
   "cell_type": "code",
   "execution_count": 17,
   "id": "47f9395d",
   "metadata": {},
   "outputs": [],
   "source": [
    "data1[0]['annotation_attributes']['license_plate']['Difficulty Score']=0"
   ]
  },
  {
   "cell_type": "code",
   "execution_count": 18,
   "id": "767c986c",
   "metadata": {},
   "outputs": [],
   "source": [
    "data1[0]['annotation_attributes']['license_plate']['Value']='CA, 7LVS119'"
   ]
  },
  {
   "cell_type": "code",
   "execution_count": 19,
   "id": "eaefb517",
   "metadata": {},
   "outputs": [],
   "source": [
    "data1[0]['annotation_attributes']['license_plate']['Occlusion']=0"
   ]
  },
  {
   "cell_type": "code",
   "execution_count": 20,
   "id": "136a6dfa",
   "metadata": {},
   "outputs": [
    {
     "data": {
      "text/plain": [
       "[{'dataset_name': 'pos_10492.png.json',\n",
       "  'image_link': '',\n",
       "  'annotation_type': 'image',\n",
       "  'annotation_objects': {'vehicle': {'presence': 1,\n",
       "    'bbox': [396, 3, 773, 314]},\n",
       "   'license_plate': {'presence': 1, 'bbox': [535, 158, 622, 213]}},\n",
       "  'annotation_attributes': {'vehicle': {'Type': 'SUV',\n",
       "    'Pose': 'Lexus',\n",
       "    'Model': None,\n",
       "    'Make': None,\n",
       "    'Color': None},\n",
       "   'license_plate': {'Difficulty Score': 0,\n",
       "    'Value': 'CA, 7LVS119',\n",
       "    'Occlusion': 0}}}]"
      ]
     },
     "execution_count": 20,
     "metadata": {},
     "output_type": "execute_result"
    }
   ],
   "source": [
    "data1"
   ]
  },
  {
   "cell_type": "code",
   "execution_count": null,
   "id": "904ee983",
   "metadata": {},
   "outputs": [],
   "source": []
  }
 ],
 "metadata": {
  "kernelspec": {
   "display_name": "Python 3 (ipykernel)",
   "language": "python",
   "name": "python3"
  },
  "language_info": {
   "codemirror_mode": {
    "name": "ipython",
    "version": 3
   },
   "file_extension": ".py",
   "mimetype": "text/x-python",
   "name": "python",
   "nbconvert_exporter": "python",
   "pygments_lexer": "ipython3",
   "version": "3.8.12"
  }
 },
 "nbformat": 4,
 "nbformat_minor": 5
}
