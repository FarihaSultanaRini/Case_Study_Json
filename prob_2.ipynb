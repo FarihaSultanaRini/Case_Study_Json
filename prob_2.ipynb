{
 "cells": [
  {
   "cell_type": "markdown",
   "id": "388379cf",
   "metadata": {},
   "source": [
    "The source code I used to derive the answer."
   ]
  },
  {
   "cell_type": "markdown",
   "id": "aa3c0c0e",
   "metadata": {},
   "source": [
    "https://stackoverflow.com/questions/58899038/how-to-open-multiple-json-file-from-folder-and-merge-them-in-single-json-file-in"
   ]
  },
  {
   "cell_type": "code",
   "execution_count": 1,
   "id": "8b92b4ca",
   "metadata": {},
   "outputs": [],
   "source": [
    "import json"
   ]
  },
  {
   "cell_type": "code",
   "execution_count": 2,
   "id": "ca5ba7b9",
   "metadata": {},
   "outputs": [
    {
     "name": "stdout",
     "output_type": "stream",
     "text": [
      "{'description': '', 'tags': [], 'size': {'height': 720, 'width': 1280}, 'objects': [{'id': 28602834, 'classId': 17389, 'description': '', 'geometryType': 'rectangle', 'labelerLogin': 'muyeed', 'createdAt': '2021-11-24T04:04:09.702Z', 'updatedAt': '2021-11-24T04:04:09.702Z', 'tags': [{'id': 29485103, 'tagId': 32292, 'name': 'Type', 'value': 'SUV', 'labelerLogin': 'muyeed', 'createdAt': '2021-11-24T04:04:09.702Z', 'updatedAt': '2021-11-24T04:04:09.702Z'}, {'id': 29485102, 'tagId': 32295, 'name': 'Pose', 'value': 'Rear', 'labelerLogin': 'muyeed', 'createdAt': '2021-11-24T04:04:09.702Z', 'updatedAt': '2021-11-24T04:04:09.702Z'}, {'id': 29485101, 'tagId': 32297, 'name': 'Model', 'value': 'UN', 'labelerLogin': 'muyeed', 'createdAt': '2021-11-24T04:04:09.702Z', 'updatedAt': '2021-11-24T04:04:09.702Z'}, {'id': 29485100, 'tagId': 32296, 'name': 'Make', 'value': 'Lexus', 'labelerLogin': 'muyeed', 'createdAt': '2021-11-24T04:04:09.702Z', 'updatedAt': '2021-11-24T04:04:09.702Z'}, {'id': 29485099, 'tagId': 32291, 'name': 'Color', 'value': 'Silver', 'labelerLogin': 'muyeed', 'createdAt': '2021-11-24T04:04:09.702Z', 'updatedAt': '2021-11-24T04:04:09.702Z'}], 'classTitle': 'Vehicle', 'points': {'exterior': [[396, 3], [773, 314]], 'interior': []}}, {'id': 28602833, 'classId': 17388, 'description': '', 'geometryType': 'rectangle', 'labelerLogin': 'muyeed', 'createdAt': '2021-11-24T04:04:09.702Z', 'updatedAt': '2021-11-24T04:04:09.702Z', 'tags': [{'id': 29485098, 'tagId': 32293, 'name': 'Difficulty Score', 'value': '0', 'labelerLogin': 'muyeed', 'createdAt': '2021-11-24T04:04:09.702Z', 'updatedAt': '2021-11-24T04:04:09.702Z'}, {'id': 29485097, 'tagId': 32290, 'name': 'Value', 'value': 'CA, 7LVS119', 'labelerLogin': 'muyeed', 'createdAt': '2021-11-24T04:04:09.702Z', 'updatedAt': '2021-11-24T04:04:09.702Z'}], 'classTitle': 'License Plate', 'points': {'exterior': [[535, 158], [622, 213]], 'interior': []}}]}\n"
     ]
    }
   ],
   "source": [
    "with open('F:\\\\stack\\\\pos_0.png.json') as json_file:\n",
    "    data1 = json.load(json_file)\n",
    "    print(data1)"
   ]
  },
  {
   "cell_type": "code",
   "execution_count": 3,
   "id": "bad2571f",
   "metadata": {},
   "outputs": [
    {
     "name": "stdout",
     "output_type": "stream",
     "text": [
      "{'description': '', 'tags': [], 'size': {'height': 720, 'width': 1280}, 'objects': [{'id': 28636340, 'classId': 17389, 'description': '', 'geometryType': 'rectangle', 'labelerLogin': 'muyeed', 'createdAt': '2021-11-24T04:04:09.702Z', 'updatedAt': '2021-11-24T04:04:09.702Z', 'tags': [{'id': 29607253, 'tagId': 32296, 'name': 'Make', 'value': 'Mercedes-Benz', 'labelerLogin': 'muyeed', 'createdAt': '2021-11-24T04:04:09.702Z', 'updatedAt': '2021-11-24T04:04:09.702Z'}, {'id': 29607252, 'tagId': 32292, 'name': 'Type', 'value': 'SUV', 'labelerLogin': 'muyeed', 'createdAt': '2021-11-24T04:04:09.702Z', 'updatedAt': '2021-11-24T04:04:09.702Z'}, {'id': 29607251, 'tagId': 32295, 'name': 'Pose', 'value': 'Rear', 'labelerLogin': 'muyeed', 'createdAt': '2021-11-24T04:04:09.702Z', 'updatedAt': '2021-11-24T04:04:09.702Z'}, {'id': 29607250, 'tagId': 32297, 'name': 'Model', 'value': 'UN', 'labelerLogin': 'muyeed', 'createdAt': '2021-11-24T04:04:09.702Z', 'updatedAt': '2021-11-24T04:04:09.702Z'}, {'id': 29607249, 'tagId': 32291, 'name': 'Color', 'value': 'Silver', 'labelerLogin': 'muyeed', 'createdAt': '2021-11-24T04:04:09.702Z', 'updatedAt': '2021-11-24T04:04:09.702Z'}], 'classTitle': 'Vehicle', 'points': {'exterior': [[770, 0], [882, 306]], 'interior': []}}]}\n"
     ]
    }
   ],
   "source": [
    "with open('F:\\\\stack\\\\pos_10010.png.json') as json_file:\n",
    "    data2 = json.load(json_file)\n",
    "    print(data2)"
   ]
  },
  {
   "cell_type": "code",
   "execution_count": 4,
   "id": "bc229d1d",
   "metadata": {},
   "outputs": [
    {
     "name": "stdout",
     "output_type": "stream",
     "text": [
      "{'description': '', 'tags': [], 'size': {'height': 720, 'width': 1280}, 'objects': []}\n"
     ]
    }
   ],
   "source": [
    "with open('F:\\\\stack\\\\pos_10492.png.json') as json_file:\n",
    "    data3 = json.load(json_file)\n",
    "    print(data3)"
   ]
  },
  {
   "cell_type": "code",
   "execution_count": 5,
   "id": "1536d80b",
   "metadata": {},
   "outputs": [
    {
     "name": "stdout",
     "output_type": "stream",
     "text": [
      "[{'description': '',\n",
      "  'objects': [{'classId': 17389,\n",
      "               'classTitle': 'Vehicle',\n",
      "               'createdAt': '2021-11-24T04:04:09.702Z',\n",
      "               'description': '',\n",
      "               'geometryType': 'rectangle',\n",
      "               'id': 28602834,\n",
      "               'labelerLogin': 'muyeed',\n",
      "               'points': {'exterior': [[396, 3], [773, 314]], 'interior': []},\n",
      "               'tags': [{'createdAt': '2021-11-24T04:04:09.702Z',\n",
      "                         'id': 29485103,\n",
      "                         'labelerLogin': 'muyeed',\n",
      "                         'name': 'Type',\n",
      "                         'tagId': 32292,\n",
      "                         'updatedAt': '2021-11-24T04:04:09.702Z',\n",
      "                         'value': 'SUV'},\n",
      "                        {'createdAt': '2021-11-24T04:04:09.702Z',\n",
      "                         'id': 29485102,\n",
      "                         'labelerLogin': 'muyeed',\n",
      "                         'name': 'Pose',\n",
      "                         'tagId': 32295,\n",
      "                         'updatedAt': '2021-11-24T04:04:09.702Z',\n",
      "                         'value': 'Rear'},\n",
      "                        {'createdAt': '2021-11-24T04:04:09.702Z',\n",
      "                         'id': 29485101,\n",
      "                         'labelerLogin': 'muyeed',\n",
      "                         'name': 'Model',\n",
      "                         'tagId': 32297,\n",
      "                         'updatedAt': '2021-11-24T04:04:09.702Z',\n",
      "                         'value': 'UN'},\n",
      "                        {'createdAt': '2021-11-24T04:04:09.702Z',\n",
      "                         'id': 29485100,\n",
      "                         'labelerLogin': 'muyeed',\n",
      "                         'name': 'Make',\n",
      "                         'tagId': 32296,\n",
      "                         'updatedAt': '2021-11-24T04:04:09.702Z',\n",
      "                         'value': 'Lexus'},\n",
      "                        {'createdAt': '2021-11-24T04:04:09.702Z',\n",
      "                         'id': 29485099,\n",
      "                         'labelerLogin': 'muyeed',\n",
      "                         'name': 'Color',\n",
      "                         'tagId': 32291,\n",
      "                         'updatedAt': '2021-11-24T04:04:09.702Z',\n",
      "                         'value': 'Silver'}],\n",
      "               'updatedAt': '2021-11-24T04:04:09.702Z'},\n",
      "              {'classId': 17388,\n",
      "               'classTitle': 'License Plate',\n",
      "               'createdAt': '2021-11-24T04:04:09.702Z',\n",
      "               'description': '',\n",
      "               'geometryType': 'rectangle',\n",
      "               'id': 28602833,\n",
      "               'labelerLogin': 'muyeed',\n",
      "               'points': {'exterior': [[535, 158], [622, 213]], 'interior': []},\n",
      "               'tags': [{'createdAt': '2021-11-24T04:04:09.702Z',\n",
      "                         'id': 29485098,\n",
      "                         'labelerLogin': 'muyeed',\n",
      "                         'name': 'Difficulty Score',\n",
      "                         'tagId': 32293,\n",
      "                         'updatedAt': '2021-11-24T04:04:09.702Z',\n",
      "                         'value': '0'},\n",
      "                        {'createdAt': '2021-11-24T04:04:09.702Z',\n",
      "                         'id': 29485097,\n",
      "                         'labelerLogin': 'muyeed',\n",
      "                         'name': 'Value',\n",
      "                         'tagId': 32290,\n",
      "                         'updatedAt': '2021-11-24T04:04:09.702Z',\n",
      "                         'value': 'CA, 7LVS119'}],\n",
      "               'updatedAt': '2021-11-24T04:04:09.702Z'}],\n",
      "  'size': {'height': 720, 'width': 1280},\n",
      "  'tags': []},\n",
      " {'description': '',\n",
      "  'objects': [{'classId': 17389,\n",
      "               'classTitle': 'Vehicle',\n",
      "               'createdAt': '2021-11-24T04:04:09.702Z',\n",
      "               'description': '',\n",
      "               'geometryType': 'rectangle',\n",
      "               'id': 28636340,\n",
      "               'labelerLogin': 'muyeed',\n",
      "               'points': {'exterior': [[770, 0], [882, 306]], 'interior': []},\n",
      "               'tags': [{'createdAt': '2021-11-24T04:04:09.702Z',\n",
      "                         'id': 29607253,\n",
      "                         'labelerLogin': 'muyeed',\n",
      "                         'name': 'Make',\n",
      "                         'tagId': 32296,\n",
      "                         'updatedAt': '2021-11-24T04:04:09.702Z',\n",
      "                         'value': 'Mercedes-Benz'},\n",
      "                        {'createdAt': '2021-11-24T04:04:09.702Z',\n",
      "                         'id': 29607252,\n",
      "                         'labelerLogin': 'muyeed',\n",
      "                         'name': 'Type',\n",
      "                         'tagId': 32292,\n",
      "                         'updatedAt': '2021-11-24T04:04:09.702Z',\n",
      "                         'value': 'SUV'},\n",
      "                        {'createdAt': '2021-11-24T04:04:09.702Z',\n",
      "                         'id': 29607251,\n",
      "                         'labelerLogin': 'muyeed',\n",
      "                         'name': 'Pose',\n",
      "                         'tagId': 32295,\n",
      "                         'updatedAt': '2021-11-24T04:04:09.702Z',\n",
      "                         'value': 'Rear'},\n",
      "                        {'createdAt': '2021-11-24T04:04:09.702Z',\n",
      "                         'id': 29607250,\n",
      "                         'labelerLogin': 'muyeed',\n",
      "                         'name': 'Model',\n",
      "                         'tagId': 32297,\n",
      "                         'updatedAt': '2021-11-24T04:04:09.702Z',\n",
      "                         'value': 'UN'},\n",
      "                        {'createdAt': '2021-11-24T04:04:09.702Z',\n",
      "                         'id': 29607249,\n",
      "                         'labelerLogin': 'muyeed',\n",
      "                         'name': 'Color',\n",
      "                         'tagId': 32291,\n",
      "                         'updatedAt': '2021-11-24T04:04:09.702Z',\n",
      "                         'value': 'Silver'}],\n",
      "               'updatedAt': '2021-11-24T04:04:09.702Z'}],\n",
      "  'size': {'height': 720, 'width': 1280},\n",
      "  'tags': []},\n",
      " {'description': '',\n",
      "  'objects': [],\n",
      "  'size': {'height': 720, 'width': 1280},\n",
      "  'tags': []}]\n"
     ]
    }
   ],
   "source": [
    "import glob\n",
    "import pprint as pp #Pretty printer\n",
    "\n",
    "combined = []\n",
    "for json_file in glob.glob(\"F:\\\\stack\\\\*.json\"):\n",
    "    with open(json_file, \"rb\") as infile:\n",
    "        combined.append(json.load(infile))\n",
    "\n",
    "\n",
    "\n",
    "pp.pprint(combined)"
   ]
  },
  {
   "cell_type": "code",
   "execution_count": 8,
   "id": "d17fad2f",
   "metadata": {},
   "outputs": [],
   "source": [
    "with open(\"mydata1.json\", \"w\") as final:\n",
    "    json.dump(combined, final)\n",
    "  \n"
   ]
  },
  {
   "cell_type": "code",
   "execution_count": 9,
   "id": "33b52e10",
   "metadata": {},
   "outputs": [
    {
     "name": "stdout",
     "output_type": "stream",
     "text": [
      "[{'description': '', 'tags': [], 'size': {'height': 720, 'width': 1280}, 'objects': [{'id': 28602834, 'classId': 17389, 'description': '', 'geometryType': 'rectangle', 'labelerLogin': 'muyeed', 'createdAt': '2021-11-24T04:04:09.702Z', 'updatedAt': '2021-11-24T04:04:09.702Z', 'tags': [{'id': 29485103, 'tagId': 32292, 'name': 'Type', 'value': 'SUV', 'labelerLogin': 'muyeed', 'createdAt': '2021-11-24T04:04:09.702Z', 'updatedAt': '2021-11-24T04:04:09.702Z'}, {'id': 29485102, 'tagId': 32295, 'name': 'Pose', 'value': 'Rear', 'labelerLogin': 'muyeed', 'createdAt': '2021-11-24T04:04:09.702Z', 'updatedAt': '2021-11-24T04:04:09.702Z'}, {'id': 29485101, 'tagId': 32297, 'name': 'Model', 'value': 'UN', 'labelerLogin': 'muyeed', 'createdAt': '2021-11-24T04:04:09.702Z', 'updatedAt': '2021-11-24T04:04:09.702Z'}, {'id': 29485100, 'tagId': 32296, 'name': 'Make', 'value': 'Lexus', 'labelerLogin': 'muyeed', 'createdAt': '2021-11-24T04:04:09.702Z', 'updatedAt': '2021-11-24T04:04:09.702Z'}, {'id': 29485099, 'tagId': 32291, 'name': 'Color', 'value': 'Silver', 'labelerLogin': 'muyeed', 'createdAt': '2021-11-24T04:04:09.702Z', 'updatedAt': '2021-11-24T04:04:09.702Z'}], 'classTitle': 'Vehicle', 'points': {'exterior': [[396, 3], [773, 314]], 'interior': []}}, {'id': 28602833, 'classId': 17388, 'description': '', 'geometryType': 'rectangle', 'labelerLogin': 'muyeed', 'createdAt': '2021-11-24T04:04:09.702Z', 'updatedAt': '2021-11-24T04:04:09.702Z', 'tags': [{'id': 29485098, 'tagId': 32293, 'name': 'Difficulty Score', 'value': '0', 'labelerLogin': 'muyeed', 'createdAt': '2021-11-24T04:04:09.702Z', 'updatedAt': '2021-11-24T04:04:09.702Z'}, {'id': 29485097, 'tagId': 32290, 'name': 'Value', 'value': 'CA, 7LVS119', 'labelerLogin': 'muyeed', 'createdAt': '2021-11-24T04:04:09.702Z', 'updatedAt': '2021-11-24T04:04:09.702Z'}], 'classTitle': 'License Plate', 'points': {'exterior': [[535, 158], [622, 213]], 'interior': []}}]}, {'description': '', 'tags': [], 'size': {'height': 720, 'width': 1280}, 'objects': [{'id': 28636340, 'classId': 17389, 'description': '', 'geometryType': 'rectangle', 'labelerLogin': 'muyeed', 'createdAt': '2021-11-24T04:04:09.702Z', 'updatedAt': '2021-11-24T04:04:09.702Z', 'tags': [{'id': 29607253, 'tagId': 32296, 'name': 'Make', 'value': 'Mercedes-Benz', 'labelerLogin': 'muyeed', 'createdAt': '2021-11-24T04:04:09.702Z', 'updatedAt': '2021-11-24T04:04:09.702Z'}, {'id': 29607252, 'tagId': 32292, 'name': 'Type', 'value': 'SUV', 'labelerLogin': 'muyeed', 'createdAt': '2021-11-24T04:04:09.702Z', 'updatedAt': '2021-11-24T04:04:09.702Z'}, {'id': 29607251, 'tagId': 32295, 'name': 'Pose', 'value': 'Rear', 'labelerLogin': 'muyeed', 'createdAt': '2021-11-24T04:04:09.702Z', 'updatedAt': '2021-11-24T04:04:09.702Z'}, {'id': 29607250, 'tagId': 32297, 'name': 'Model', 'value': 'UN', 'labelerLogin': 'muyeed', 'createdAt': '2021-11-24T04:04:09.702Z', 'updatedAt': '2021-11-24T04:04:09.702Z'}, {'id': 29607249, 'tagId': 32291, 'name': 'Color', 'value': 'Silver', 'labelerLogin': 'muyeed', 'createdAt': '2021-11-24T04:04:09.702Z', 'updatedAt': '2021-11-24T04:04:09.702Z'}], 'classTitle': 'Vehicle', 'points': {'exterior': [[770, 0], [882, 306]], 'interior': []}}]}, {'description': '', 'tags': [], 'size': {'height': 720, 'width': 1280}, 'objects': []}]\n"
     ]
    }
   ],
   "source": [
    "with open('mydata1.json') as json_file:\n",
    "    data4 = json.load(json_file)\n",
    "    print(data4)"
   ]
  },
  {
   "cell_type": "code",
   "execution_count": 22,
   "id": "669444ef",
   "metadata": {},
   "outputs": [
    {
     "data": {
      "text/plain": [
       "list"
      ]
     },
     "execution_count": 22,
     "metadata": {},
     "output_type": "execute_result"
    }
   ],
   "source": [
    "len(data4)\n",
    "type(data4)"
   ]
  },
  {
   "cell_type": "code",
   "execution_count": 23,
   "id": "e21b1f8e",
   "metadata": {},
   "outputs": [
    {
     "data": {
      "text/plain": [
       "{'description': '',\n",
       " 'tags': [],\n",
       " 'size': {'height': 720, 'width': 1280},\n",
       " 'objects': [{'id': 28602834,\n",
       "   'classId': 17389,\n",
       "   'description': '',\n",
       "   'geometryType': 'rectangle',\n",
       "   'labelerLogin': 'muyeed',\n",
       "   'createdAt': '2021-11-24T04:04:09.702Z',\n",
       "   'updatedAt': '2021-11-24T04:04:09.702Z',\n",
       "   'tags': [{'id': 29485103,\n",
       "     'tagId': 32292,\n",
       "     'name': 'Type',\n",
       "     'value': 'SUV',\n",
       "     'labelerLogin': 'muyeed',\n",
       "     'createdAt': '2021-11-24T04:04:09.702Z',\n",
       "     'updatedAt': '2021-11-24T04:04:09.702Z'},\n",
       "    {'id': 29485102,\n",
       "     'tagId': 32295,\n",
       "     'name': 'Pose',\n",
       "     'value': 'Rear',\n",
       "     'labelerLogin': 'muyeed',\n",
       "     'createdAt': '2021-11-24T04:04:09.702Z',\n",
       "     'updatedAt': '2021-11-24T04:04:09.702Z'},\n",
       "    {'id': 29485101,\n",
       "     'tagId': 32297,\n",
       "     'name': 'Model',\n",
       "     'value': 'UN',\n",
       "     'labelerLogin': 'muyeed',\n",
       "     'createdAt': '2021-11-24T04:04:09.702Z',\n",
       "     'updatedAt': '2021-11-24T04:04:09.702Z'},\n",
       "    {'id': 29485100,\n",
       "     'tagId': 32296,\n",
       "     'name': 'Make',\n",
       "     'value': 'Lexus',\n",
       "     'labelerLogin': 'muyeed',\n",
       "     'createdAt': '2021-11-24T04:04:09.702Z',\n",
       "     'updatedAt': '2021-11-24T04:04:09.702Z'},\n",
       "    {'id': 29485099,\n",
       "     'tagId': 32291,\n",
       "     'name': 'Color',\n",
       "     'value': 'Silver',\n",
       "     'labelerLogin': 'muyeed',\n",
       "     'createdAt': '2021-11-24T04:04:09.702Z',\n",
       "     'updatedAt': '2021-11-24T04:04:09.702Z'}],\n",
       "   'classTitle': 'Vehicle',\n",
       "   'points': {'exterior': [[396, 3], [773, 314]], 'interior': []}},\n",
       "  {'id': 28602833,\n",
       "   'classId': 17388,\n",
       "   'description': '',\n",
       "   'geometryType': 'rectangle',\n",
       "   'labelerLogin': 'muyeed',\n",
       "   'createdAt': '2021-11-24T04:04:09.702Z',\n",
       "   'updatedAt': '2021-11-24T04:04:09.702Z',\n",
       "   'tags': [{'id': 29485098,\n",
       "     'tagId': 32293,\n",
       "     'name': 'Difficulty Score',\n",
       "     'value': '0',\n",
       "     'labelerLogin': 'muyeed',\n",
       "     'createdAt': '2021-11-24T04:04:09.702Z',\n",
       "     'updatedAt': '2021-11-24T04:04:09.702Z'},\n",
       "    {'id': 29485097,\n",
       "     'tagId': 32290,\n",
       "     'name': 'Value',\n",
       "     'value': 'CA, 7LVS119',\n",
       "     'labelerLogin': 'muyeed',\n",
       "     'createdAt': '2021-11-24T04:04:09.702Z',\n",
       "     'updatedAt': '2021-11-24T04:04:09.702Z'}],\n",
       "   'classTitle': 'License Plate',\n",
       "   'points': {'exterior': [[535, 158], [622, 213]], 'interior': []}}]}"
      ]
     },
     "execution_count": 23,
     "metadata": {},
     "output_type": "execute_result"
    }
   ],
   "source": [
    "data4[0]"
   ]
  },
  {
   "cell_type": "code",
   "execution_count": 32,
   "id": "bda91376",
   "metadata": {},
   "outputs": [],
   "source": [
    "values = []\n",
    "\n",
    "for dictionary in data4:\n",
    "    for element in dictionary:\n",
    "          values.append(dictionary[element])\n"
   ]
  },
  {
   "cell_type": "code",
   "execution_count": 33,
   "id": "42add9f1",
   "metadata": {},
   "outputs": [
    {
     "data": {
      "text/plain": [
       "['',\n",
       " [],\n",
       " {'height': 720, 'width': 1280},\n",
       " [{'id': 28602834,\n",
       "   'classId': 17389,\n",
       "   'description': '',\n",
       "   'geometryType': 'rectangle',\n",
       "   'labelerLogin': 'muyeed',\n",
       "   'createdAt': '2021-11-24T04:04:09.702Z',\n",
       "   'updatedAt': '2021-11-24T04:04:09.702Z',\n",
       "   'tags': [{'id': 29485103,\n",
       "     'tagId': 32292,\n",
       "     'name': 'Type',\n",
       "     'value': 'SUV',\n",
       "     'labelerLogin': 'muyeed',\n",
       "     'createdAt': '2021-11-24T04:04:09.702Z',\n",
       "     'updatedAt': '2021-11-24T04:04:09.702Z'},\n",
       "    {'id': 29485102,\n",
       "     'tagId': 32295,\n",
       "     'name': 'Pose',\n",
       "     'value': 'Rear',\n",
       "     'labelerLogin': 'muyeed',\n",
       "     'createdAt': '2021-11-24T04:04:09.702Z',\n",
       "     'updatedAt': '2021-11-24T04:04:09.702Z'},\n",
       "    {'id': 29485101,\n",
       "     'tagId': 32297,\n",
       "     'name': 'Model',\n",
       "     'value': 'UN',\n",
       "     'labelerLogin': 'muyeed',\n",
       "     'createdAt': '2021-11-24T04:04:09.702Z',\n",
       "     'updatedAt': '2021-11-24T04:04:09.702Z'},\n",
       "    {'id': 29485100,\n",
       "     'tagId': 32296,\n",
       "     'name': 'Make',\n",
       "     'value': 'Lexus',\n",
       "     'labelerLogin': 'muyeed',\n",
       "     'createdAt': '2021-11-24T04:04:09.702Z',\n",
       "     'updatedAt': '2021-11-24T04:04:09.702Z'},\n",
       "    {'id': 29485099,\n",
       "     'tagId': 32291,\n",
       "     'name': 'Color',\n",
       "     'value': 'Silver',\n",
       "     'labelerLogin': 'muyeed',\n",
       "     'createdAt': '2021-11-24T04:04:09.702Z',\n",
       "     'updatedAt': '2021-11-24T04:04:09.702Z'}],\n",
       "   'classTitle': 'Vehicle',\n",
       "   'points': {'exterior': [[396, 3], [773, 314]], 'interior': []}},\n",
       "  {'id': 28602833,\n",
       "   'classId': 17388,\n",
       "   'description': '',\n",
       "   'geometryType': 'rectangle',\n",
       "   'labelerLogin': 'muyeed',\n",
       "   'createdAt': '2021-11-24T04:04:09.702Z',\n",
       "   'updatedAt': '2021-11-24T04:04:09.702Z',\n",
       "   'tags': [{'id': 29485098,\n",
       "     'tagId': 32293,\n",
       "     'name': 'Difficulty Score',\n",
       "     'value': '0',\n",
       "     'labelerLogin': 'muyeed',\n",
       "     'createdAt': '2021-11-24T04:04:09.702Z',\n",
       "     'updatedAt': '2021-11-24T04:04:09.702Z'},\n",
       "    {'id': 29485097,\n",
       "     'tagId': 32290,\n",
       "     'name': 'Value',\n",
       "     'value': 'CA, 7LVS119',\n",
       "     'labelerLogin': 'muyeed',\n",
       "     'createdAt': '2021-11-24T04:04:09.702Z',\n",
       "     'updatedAt': '2021-11-24T04:04:09.702Z'}],\n",
       "   'classTitle': 'License Plate',\n",
       "   'points': {'exterior': [[535, 158], [622, 213]], 'interior': []}}],\n",
       " '',\n",
       " [],\n",
       " {'height': 720, 'width': 1280},\n",
       " [{'id': 28636340,\n",
       "   'classId': 17389,\n",
       "   'description': '',\n",
       "   'geometryType': 'rectangle',\n",
       "   'labelerLogin': 'muyeed',\n",
       "   'createdAt': '2021-11-24T04:04:09.702Z',\n",
       "   'updatedAt': '2021-11-24T04:04:09.702Z',\n",
       "   'tags': [{'id': 29607253,\n",
       "     'tagId': 32296,\n",
       "     'name': 'Make',\n",
       "     'value': 'Mercedes-Benz',\n",
       "     'labelerLogin': 'muyeed',\n",
       "     'createdAt': '2021-11-24T04:04:09.702Z',\n",
       "     'updatedAt': '2021-11-24T04:04:09.702Z'},\n",
       "    {'id': 29607252,\n",
       "     'tagId': 32292,\n",
       "     'name': 'Type',\n",
       "     'value': 'SUV',\n",
       "     'labelerLogin': 'muyeed',\n",
       "     'createdAt': '2021-11-24T04:04:09.702Z',\n",
       "     'updatedAt': '2021-11-24T04:04:09.702Z'},\n",
       "    {'id': 29607251,\n",
       "     'tagId': 32295,\n",
       "     'name': 'Pose',\n",
       "     'value': 'Rear',\n",
       "     'labelerLogin': 'muyeed',\n",
       "     'createdAt': '2021-11-24T04:04:09.702Z',\n",
       "     'updatedAt': '2021-11-24T04:04:09.702Z'},\n",
       "    {'id': 29607250,\n",
       "     'tagId': 32297,\n",
       "     'name': 'Model',\n",
       "     'value': 'UN',\n",
       "     'labelerLogin': 'muyeed',\n",
       "     'createdAt': '2021-11-24T04:04:09.702Z',\n",
       "     'updatedAt': '2021-11-24T04:04:09.702Z'},\n",
       "    {'id': 29607249,\n",
       "     'tagId': 32291,\n",
       "     'name': 'Color',\n",
       "     'value': 'Silver',\n",
       "     'labelerLogin': 'muyeed',\n",
       "     'createdAt': '2021-11-24T04:04:09.702Z',\n",
       "     'updatedAt': '2021-11-24T04:04:09.702Z'}],\n",
       "   'classTitle': 'Vehicle',\n",
       "   'points': {'exterior': [[770, 0], [882, 306]], 'interior': []}}],\n",
       " '',\n",
       " [],\n",
       " {'height': 720, 'width': 1280},\n",
       " []]"
      ]
     },
     "execution_count": 33,
     "metadata": {},
     "output_type": "execute_result"
    }
   ],
   "source": [
    "values"
   ]
  },
  {
   "cell_type": "code",
   "execution_count": 34,
   "id": "de875c8b",
   "metadata": {},
   "outputs": [
    {
     "name": "stdout",
     "output_type": "stream",
     "text": [
      "dict_keys(['id', 'classId', 'description', 'geometryType', 'labelerLogin', 'createdAt', 'updatedAt', 'tags', 'classTitle', 'points'])\n"
     ]
    }
   ],
   "source": [
    "pp.pprint(values[3][1].keys())"
   ]
  },
  {
   "cell_type": "code",
   "execution_count": 35,
   "id": "3ea14a34",
   "metadata": {},
   "outputs": [
    {
     "name": "stdout",
     "output_type": "stream",
     "text": [
      "dict_values([28602833, 17388, '', 'rectangle', 'muyeed', '2021-11-24T04:04:09.702Z', '2021-11-24T04:04:09.702Z', [{'id': 29485098, 'tagId': 32293, 'name': 'Difficulty Score', 'value': '0', 'labelerLogin': 'muyeed', 'createdAt': '2021-11-24T04:04:09.702Z', 'updatedAt': '2021-11-24T04:04:09.702Z'}, {'id': 29485097, 'tagId': 32290, 'name': 'Value', 'value': 'CA, 7LVS119', 'labelerLogin': 'muyeed', 'createdAt': '2021-11-24T04:04:09.702Z', 'updatedAt': '2021-11-24T04:04:09.702Z'}], 'License Plate', {'exterior': [[535, 158], [622, 213]], 'interior': []}])\n"
     ]
    }
   ],
   "source": [
    "pp.pprint(values[3][1].values())    "
   ]
  },
  {
   "cell_type": "code",
   "execution_count": 37,
   "id": "37e33588",
   "metadata": {},
   "outputs": [],
   "source": [
    "if values[3][1]['classTitle']=='License Plate':\n",
    "   values[3][1]['classTitle']='number'\n",
    "   \n",
    "   "
   ]
  },
  {
   "cell_type": "code",
   "execution_count": 38,
   "id": "58b830cf",
   "metadata": {},
   "outputs": [
    {
     "name": "stdout",
     "output_type": "stream",
     "text": [
      "dict_values([28602833, 17388, '', 'rectangle', 'muyeed', '2021-11-24T04:04:09.702Z', '2021-11-24T04:04:09.702Z', [{'id': 29485098, 'tagId': 32293, 'name': 'Difficulty Score', 'value': '0', 'labelerLogin': 'muyeed', 'createdAt': '2021-11-24T04:04:09.702Z', 'updatedAt': '2021-11-24T04:04:09.702Z'}, {'id': 29485097, 'tagId': 32290, 'name': 'Value', 'value': 'CA, 7LVS119', 'labelerLogin': 'muyeed', 'createdAt': '2021-11-24T04:04:09.702Z', 'updatedAt': '2021-11-24T04:04:09.702Z'}], 'number', {'exterior': [[535, 158], [622, 213]], 'interior': []}])\n"
     ]
    }
   ],
   "source": [
    "pp.pprint(values[3][1].values())\n",
    "\n"
   ]
  },
  {
   "cell_type": "code",
   "execution_count": 39,
   "id": "b9bb0d1d",
   "metadata": {},
   "outputs": [],
   "source": [
    "if values[3][0]['classTitle']=='Vehicle':\n",
    "   values[3][0]['classTitle']='car'\n",
    "   \n",
    "   "
   ]
  },
  {
   "cell_type": "code",
   "execution_count": 40,
   "id": "d2238e0e",
   "metadata": {},
   "outputs": [
    {
     "name": "stdout",
     "output_type": "stream",
     "text": [
      "dict_values([28602834, 17389, '', 'rectangle', 'muyeed', '2021-11-24T04:04:09.702Z', '2021-11-24T04:04:09.702Z', [{'id': 29485103, 'tagId': 32292, 'name': 'Type', 'value': 'SUV', 'labelerLogin': 'muyeed', 'createdAt': '2021-11-24T04:04:09.702Z', 'updatedAt': '2021-11-24T04:04:09.702Z'}, {'id': 29485102, 'tagId': 32295, 'name': 'Pose', 'value': 'Rear', 'labelerLogin': 'muyeed', 'createdAt': '2021-11-24T04:04:09.702Z', 'updatedAt': '2021-11-24T04:04:09.702Z'}, {'id': 29485101, 'tagId': 32297, 'name': 'Model', 'value': 'UN', 'labelerLogin': 'muyeed', 'createdAt': '2021-11-24T04:04:09.702Z', 'updatedAt': '2021-11-24T04:04:09.702Z'}, {'id': 29485100, 'tagId': 32296, 'name': 'Make', 'value': 'Lexus', 'labelerLogin': 'muyeed', 'createdAt': '2021-11-24T04:04:09.702Z', 'updatedAt': '2021-11-24T04:04:09.702Z'}, {'id': 29485099, 'tagId': 32291, 'name': 'Color', 'value': 'Silver', 'labelerLogin': 'muyeed', 'createdAt': '2021-11-24T04:04:09.702Z', 'updatedAt': '2021-11-24T04:04:09.702Z'}], 'car', {'exterior': [[396, 3], [773, 314]], 'interior': []}])\n"
     ]
    }
   ],
   "source": [
    "pp.pprint(values[3][0].values())"
   ]
  },
  {
   "cell_type": "code",
   "execution_count": 41,
   "id": "383d1301",
   "metadata": {},
   "outputs": [],
   "source": [
    "\n",
    "if values[7][0]['classTitle']=='Vehicle':\n",
    "   values[7][0]['classTitle']='car'\n",
    "   "
   ]
  },
  {
   "cell_type": "code",
   "execution_count": 42,
   "id": "0a9ca884",
   "metadata": {},
   "outputs": [
    {
     "data": {
      "text/plain": [
       "dict_values([28636340, 17389, '', 'rectangle', 'muyeed', '2021-11-24T04:04:09.702Z', '2021-11-24T04:04:09.702Z', [{'id': 29607253, 'tagId': 32296, 'name': 'Make', 'value': 'Mercedes-Benz', 'labelerLogin': 'muyeed', 'createdAt': '2021-11-24T04:04:09.702Z', 'updatedAt': '2021-11-24T04:04:09.702Z'}, {'id': 29607252, 'tagId': 32292, 'name': 'Type', 'value': 'SUV', 'labelerLogin': 'muyeed', 'createdAt': '2021-11-24T04:04:09.702Z', 'updatedAt': '2021-11-24T04:04:09.702Z'}, {'id': 29607251, 'tagId': 32295, 'name': 'Pose', 'value': 'Rear', 'labelerLogin': 'muyeed', 'createdAt': '2021-11-24T04:04:09.702Z', 'updatedAt': '2021-11-24T04:04:09.702Z'}, {'id': 29607250, 'tagId': 32297, 'name': 'Model', 'value': 'UN', 'labelerLogin': 'muyeed', 'createdAt': '2021-11-24T04:04:09.702Z', 'updatedAt': '2021-11-24T04:04:09.702Z'}, {'id': 29607249, 'tagId': 32291, 'name': 'Color', 'value': 'Silver', 'labelerLogin': 'muyeed', 'createdAt': '2021-11-24T04:04:09.702Z', 'updatedAt': '2021-11-24T04:04:09.702Z'}], 'car', {'exterior': [[770, 0], [882, 306]], 'interior': []}])"
      ]
     },
     "execution_count": 42,
     "metadata": {},
     "output_type": "execute_result"
    }
   ],
   "source": [
    "values[7][0].values()"
   ]
  },
  {
   "cell_type": "code",
   "execution_count": 43,
   "id": "75a0c2d7",
   "metadata": {},
   "outputs": [
    {
     "data": {
      "text/plain": [
       "['',\n",
       " [],\n",
       " {'height': 720, 'width': 1280},\n",
       " [{'id': 28602834,\n",
       "   'classId': 17389,\n",
       "   'description': '',\n",
       "   'geometryType': 'rectangle',\n",
       "   'labelerLogin': 'muyeed',\n",
       "   'createdAt': '2021-11-24T04:04:09.702Z',\n",
       "   'updatedAt': '2021-11-24T04:04:09.702Z',\n",
       "   'tags': [{'id': 29485103,\n",
       "     'tagId': 32292,\n",
       "     'name': 'Type',\n",
       "     'value': 'SUV',\n",
       "     'labelerLogin': 'muyeed',\n",
       "     'createdAt': '2021-11-24T04:04:09.702Z',\n",
       "     'updatedAt': '2021-11-24T04:04:09.702Z'},\n",
       "    {'id': 29485102,\n",
       "     'tagId': 32295,\n",
       "     'name': 'Pose',\n",
       "     'value': 'Rear',\n",
       "     'labelerLogin': 'muyeed',\n",
       "     'createdAt': '2021-11-24T04:04:09.702Z',\n",
       "     'updatedAt': '2021-11-24T04:04:09.702Z'},\n",
       "    {'id': 29485101,\n",
       "     'tagId': 32297,\n",
       "     'name': 'Model',\n",
       "     'value': 'UN',\n",
       "     'labelerLogin': 'muyeed',\n",
       "     'createdAt': '2021-11-24T04:04:09.702Z',\n",
       "     'updatedAt': '2021-11-24T04:04:09.702Z'},\n",
       "    {'id': 29485100,\n",
       "     'tagId': 32296,\n",
       "     'name': 'Make',\n",
       "     'value': 'Lexus',\n",
       "     'labelerLogin': 'muyeed',\n",
       "     'createdAt': '2021-11-24T04:04:09.702Z',\n",
       "     'updatedAt': '2021-11-24T04:04:09.702Z'},\n",
       "    {'id': 29485099,\n",
       "     'tagId': 32291,\n",
       "     'name': 'Color',\n",
       "     'value': 'Silver',\n",
       "     'labelerLogin': 'muyeed',\n",
       "     'createdAt': '2021-11-24T04:04:09.702Z',\n",
       "     'updatedAt': '2021-11-24T04:04:09.702Z'}],\n",
       "   'classTitle': 'car',\n",
       "   'points': {'exterior': [[396, 3], [773, 314]], 'interior': []}},\n",
       "  {'id': 28602833,\n",
       "   'classId': 17388,\n",
       "   'description': '',\n",
       "   'geometryType': 'rectangle',\n",
       "   'labelerLogin': 'muyeed',\n",
       "   'createdAt': '2021-11-24T04:04:09.702Z',\n",
       "   'updatedAt': '2021-11-24T04:04:09.702Z',\n",
       "   'tags': [{'id': 29485098,\n",
       "     'tagId': 32293,\n",
       "     'name': 'Difficulty Score',\n",
       "     'value': '0',\n",
       "     'labelerLogin': 'muyeed',\n",
       "     'createdAt': '2021-11-24T04:04:09.702Z',\n",
       "     'updatedAt': '2021-11-24T04:04:09.702Z'},\n",
       "    {'id': 29485097,\n",
       "     'tagId': 32290,\n",
       "     'name': 'Value',\n",
       "     'value': 'CA, 7LVS119',\n",
       "     'labelerLogin': 'muyeed',\n",
       "     'createdAt': '2021-11-24T04:04:09.702Z',\n",
       "     'updatedAt': '2021-11-24T04:04:09.702Z'}],\n",
       "   'classTitle': 'number',\n",
       "   'points': {'exterior': [[535, 158], [622, 213]], 'interior': []}}],\n",
       " '',\n",
       " [],\n",
       " {'height': 720, 'width': 1280},\n",
       " [{'id': 28636340,\n",
       "   'classId': 17389,\n",
       "   'description': '',\n",
       "   'geometryType': 'rectangle',\n",
       "   'labelerLogin': 'muyeed',\n",
       "   'createdAt': '2021-11-24T04:04:09.702Z',\n",
       "   'updatedAt': '2021-11-24T04:04:09.702Z',\n",
       "   'tags': [{'id': 29607253,\n",
       "     'tagId': 32296,\n",
       "     'name': 'Make',\n",
       "     'value': 'Mercedes-Benz',\n",
       "     'labelerLogin': 'muyeed',\n",
       "     'createdAt': '2021-11-24T04:04:09.702Z',\n",
       "     'updatedAt': '2021-11-24T04:04:09.702Z'},\n",
       "    {'id': 29607252,\n",
       "     'tagId': 32292,\n",
       "     'name': 'Type',\n",
       "     'value': 'SUV',\n",
       "     'labelerLogin': 'muyeed',\n",
       "     'createdAt': '2021-11-24T04:04:09.702Z',\n",
       "     'updatedAt': '2021-11-24T04:04:09.702Z'},\n",
       "    {'id': 29607251,\n",
       "     'tagId': 32295,\n",
       "     'name': 'Pose',\n",
       "     'value': 'Rear',\n",
       "     'labelerLogin': 'muyeed',\n",
       "     'createdAt': '2021-11-24T04:04:09.702Z',\n",
       "     'updatedAt': '2021-11-24T04:04:09.702Z'},\n",
       "    {'id': 29607250,\n",
       "     'tagId': 32297,\n",
       "     'name': 'Model',\n",
       "     'value': 'UN',\n",
       "     'labelerLogin': 'muyeed',\n",
       "     'createdAt': '2021-11-24T04:04:09.702Z',\n",
       "     'updatedAt': '2021-11-24T04:04:09.702Z'},\n",
       "    {'id': 29607249,\n",
       "     'tagId': 32291,\n",
       "     'name': 'Color',\n",
       "     'value': 'Silver',\n",
       "     'labelerLogin': 'muyeed',\n",
       "     'createdAt': '2021-11-24T04:04:09.702Z',\n",
       "     'updatedAt': '2021-11-24T04:04:09.702Z'}],\n",
       "   'classTitle': 'car',\n",
       "   'points': {'exterior': [[770, 0], [882, 306]], 'interior': []}}],\n",
       " '',\n",
       " [],\n",
       " {'height': 720, 'width': 1280},\n",
       " []]"
      ]
     },
     "execution_count": 43,
     "metadata": {},
     "output_type": "execute_result"
    }
   ],
   "source": [
    "values"
   ]
  },
  {
   "cell_type": "code",
   "execution_count": null,
   "id": "59bbecd4",
   "metadata": {},
   "outputs": [],
   "source": []
  }
 ],
 "metadata": {
  "kernelspec": {
   "display_name": "Python 3 (ipykernel)",
   "language": "python",
   "name": "python3"
  },
  "language_info": {
   "codemirror_mode": {
    "name": "ipython",
    "version": 3
   },
   "file_extension": ".py",
   "mimetype": "text/x-python",
   "name": "python",
   "nbconvert_exporter": "python",
   "pygments_lexer": "ipython3",
   "version": "3.8.12"
  }
 },
 "nbformat": 4,
 "nbformat_minor": 5
}
